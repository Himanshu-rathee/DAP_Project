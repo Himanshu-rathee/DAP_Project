{
 "cells": [
  {
   "cell_type": "markdown",
   "metadata": {},
   "source": [
    "## III -Exploratory Analysis\n",
    "### C - HVBP Table\n",
    "#### 1) Importing libraries"
   ]
  },
  {
   "cell_type": "code",
   "execution_count": 1,
   "metadata": {},
   "outputs": [
    {
     "name": "stdout",
     "output_type": "stream",
     "text": [
      "Imported all the required libraries\n"
     ]
    }
   ],
   "source": [
    "import pandas as pd\n",
    "import numpy as np\n",
    "import pandas.io.sql as sqlio\n",
    "import psycopg2\n",
    "import seaborn as sns\n",
    "import matplotlib.pyplot as plt\n",
    "%matplotlib inline \n",
    "print(\"Imported all the required libraries\")"
   ]
  },
  {
   "cell_type": "markdown",
   "metadata": {},
   "source": [
    "#### 2) Querying data from the server"
   ]
  },
  {
   "cell_type": "code",
   "execution_count": 2,
   "metadata": {},
   "outputs": [
    {
     "data": {
      "text/plain": "   provider_number                        hospital_name  \\\n0            50026                   GROSSMONT HOSPITAL   \n1            50103        WHITE MEMORIAL MEDICAL CENTER   \n2            50224  HOAG MEMORIAL HOSPITAL PRESBYTERIAN   \n3            60020         PARKVIEW MEDICAL CENTER, INC   \n4           150169             COMMUNITY HOSPITAL NORTH   \n\n                              address           city state  zip_code  \\\n0  5555 GROSSMONT CENTER DRIVE BOX 58        LA MESA    CA     91942   \n1                 1720 E CESAR AVENUE    LOS ANGELES    CA     90033   \n2                      ONE HOAG DRIVE  NEWPORT BEACH    CA     92663   \n3                       400 W 16TH ST         PUEBLO    CO     81003   \n4                  7150 CLEARVISTA DR   INDIANAPOLIS    IN     46256   \n\n   county_name  mort_30_ami_achievement_threshold  mort_30_ami_benchmark  \\\n0    San Diego                           0.853715               0.875869   \n1  Los Angeles                           0.853715               0.875869   \n2       Orange                           0.853715               0.875869   \n3       Pueblo                           0.853715               0.875869   \n4       Marion                           0.853715               0.875869   \n\n   mort_30_ami_baseline_rate  ...  mort_30_pn_measure_score  \\\n0                   0.837234  ...                         9   \n1                   0.862837  ...                        10   \n2                   0.856289  ...                        10   \n3                   0.856647  ...                         8   \n4                   0.827037  ...                         3   \n\n   comp_hip_knee_achievement_threshold  comp_hip_knee_benchmark  \\\n0                             0.032229                 0.023178   \n1                             0.032229                 0.023178   \n2                             0.032229                 0.023178   \n3                             0.032229                 0.023178   \n4                             0.032229                 0.023178   \n\n   comp_hip_knee_baseline_rate  comp_hip_knee_performance_rate  \\\n0                     0.027022                        0.018553   \n1                     0.034845                        0.020537   \n2                     0.037973                        0.026753   \n3                     0.037675                        0.038362   \n4                     0.032862                        0.031087   \n\n   comp_hip_knee_achievement_points  comp_hip_knee_improvement_points  \\\n0                                10                                 9   \n1                                10                                 9   \n2                                 7                                 8   \n3                                 0                                 0   \n4                                 2                                 1   \n\n   comp_hip_knee_measure_score    latitude  longitude  \n0                           10 -117.009178  32.779435  \n1                           10         NaN        NaN  \n2                            7         NaN        NaN  \n3                            0 -104.612123  38.281678  \n4                            2  -86.043072  39.900033  \n\n[5 rows x 37 columns]",
      "text/html": "<div>\n<style scoped>\n    .dataframe tbody tr th:only-of-type {\n        vertical-align: middle;\n    }\n\n    .dataframe tbody tr th {\n        vertical-align: top;\n    }\n\n    .dataframe thead th {\n        text-align: right;\n    }\n</style>\n<table border=\"1\" class=\"dataframe\">\n  <thead>\n    <tr style=\"text-align: right;\">\n      <th></th>\n      <th>provider_number</th>\n      <th>hospital_name</th>\n      <th>address</th>\n      <th>city</th>\n      <th>state</th>\n      <th>zip_code</th>\n      <th>county_name</th>\n      <th>mort_30_ami_achievement_threshold</th>\n      <th>mort_30_ami_benchmark</th>\n      <th>mort_30_ami_baseline_rate</th>\n      <th>...</th>\n      <th>mort_30_pn_measure_score</th>\n      <th>comp_hip_knee_achievement_threshold</th>\n      <th>comp_hip_knee_benchmark</th>\n      <th>comp_hip_knee_baseline_rate</th>\n      <th>comp_hip_knee_performance_rate</th>\n      <th>comp_hip_knee_achievement_points</th>\n      <th>comp_hip_knee_improvement_points</th>\n      <th>comp_hip_knee_measure_score</th>\n      <th>latitude</th>\n      <th>longitude</th>\n    </tr>\n  </thead>\n  <tbody>\n    <tr>\n      <th>0</th>\n      <td>50026</td>\n      <td>GROSSMONT HOSPITAL</td>\n      <td>5555 GROSSMONT CENTER DRIVE BOX 58</td>\n      <td>LA MESA</td>\n      <td>CA</td>\n      <td>91942</td>\n      <td>San Diego</td>\n      <td>0.853715</td>\n      <td>0.875869</td>\n      <td>0.837234</td>\n      <td>...</td>\n      <td>9</td>\n      <td>0.032229</td>\n      <td>0.023178</td>\n      <td>0.027022</td>\n      <td>0.018553</td>\n      <td>10</td>\n      <td>9</td>\n      <td>10</td>\n      <td>-117.009178</td>\n      <td>32.779435</td>\n    </tr>\n    <tr>\n      <th>1</th>\n      <td>50103</td>\n      <td>WHITE MEMORIAL MEDICAL CENTER</td>\n      <td>1720 E CESAR AVENUE</td>\n      <td>LOS ANGELES</td>\n      <td>CA</td>\n      <td>90033</td>\n      <td>Los Angeles</td>\n      <td>0.853715</td>\n      <td>0.875869</td>\n      <td>0.862837</td>\n      <td>...</td>\n      <td>10</td>\n      <td>0.032229</td>\n      <td>0.023178</td>\n      <td>0.034845</td>\n      <td>0.020537</td>\n      <td>10</td>\n      <td>9</td>\n      <td>10</td>\n      <td>NaN</td>\n      <td>NaN</td>\n    </tr>\n    <tr>\n      <th>2</th>\n      <td>50224</td>\n      <td>HOAG MEMORIAL HOSPITAL PRESBYTERIAN</td>\n      <td>ONE HOAG DRIVE</td>\n      <td>NEWPORT BEACH</td>\n      <td>CA</td>\n      <td>92663</td>\n      <td>Orange</td>\n      <td>0.853715</td>\n      <td>0.875869</td>\n      <td>0.856289</td>\n      <td>...</td>\n      <td>10</td>\n      <td>0.032229</td>\n      <td>0.023178</td>\n      <td>0.037973</td>\n      <td>0.026753</td>\n      <td>7</td>\n      <td>8</td>\n      <td>7</td>\n      <td>NaN</td>\n      <td>NaN</td>\n    </tr>\n    <tr>\n      <th>3</th>\n      <td>60020</td>\n      <td>PARKVIEW MEDICAL CENTER, INC</td>\n      <td>400 W 16TH ST</td>\n      <td>PUEBLO</td>\n      <td>CO</td>\n      <td>81003</td>\n      <td>Pueblo</td>\n      <td>0.853715</td>\n      <td>0.875869</td>\n      <td>0.856647</td>\n      <td>...</td>\n      <td>8</td>\n      <td>0.032229</td>\n      <td>0.023178</td>\n      <td>0.037675</td>\n      <td>0.038362</td>\n      <td>0</td>\n      <td>0</td>\n      <td>0</td>\n      <td>-104.612123</td>\n      <td>38.281678</td>\n    </tr>\n    <tr>\n      <th>4</th>\n      <td>150169</td>\n      <td>COMMUNITY HOSPITAL NORTH</td>\n      <td>7150 CLEARVISTA DR</td>\n      <td>INDIANAPOLIS</td>\n      <td>IN</td>\n      <td>46256</td>\n      <td>Marion</td>\n      <td>0.853715</td>\n      <td>0.875869</td>\n      <td>0.827037</td>\n      <td>...</td>\n      <td>3</td>\n      <td>0.032229</td>\n      <td>0.023178</td>\n      <td>0.032862</td>\n      <td>0.031087</td>\n      <td>2</td>\n      <td>1</td>\n      <td>2</td>\n      <td>-86.043072</td>\n      <td>39.900033</td>\n    </tr>\n  </tbody>\n</table>\n<p>5 rows × 37 columns</p>\n</div>"
     },
     "execution_count": 2,
     "metadata": {},
     "output_type": "execute_result"
    }
   ],
   "source": [
    "sql = '''\n",
    "SELECT * FROM \"HVBP\";'''\n",
    "try:\n",
    "    dbConnection = psycopg2.connect(\n",
    "    user = \"dap\",\n",
    "    password = \"dap\",\n",
    "    host = \"83.212.82.56\",\n",
    "    port = \"5432\",\n",
    "\n",
    "    database = \"dap_medicare\")\n",
    "    hvbp_df = sqlio.read_sql_query(sql, dbConnection) \n",
    "except (Exception, psycopg2.Error) as dbError:\n",
    "    print (\"Error while fetching db hvbp:\", dbError)\n",
    "finally:\n",
    "    if(dbConnection): dbConnection.close()\n",
    "hvbp_df.head()"
   ]
  },
  {
   "cell_type": "markdown",
   "metadata": {},
   "source": [
    "#### 3) Descriptive statistical analysis\n",
    "i) Shape of the hvbp data frame"
   ]
  },
  {
   "cell_type": "code",
   "execution_count": 21,
   "outputs": [
    {
     "name": "stdout",
     "output_type": "stream",
     "text": [
      "data dimensions: (2731, 37)\n"
     ]
    }
   ],
   "source": [
    "print ('data dimensions:', hvbp_df.shape)"
   ],
   "metadata": {
    "collapsed": false,
    "pycharm": {
     "name": "#%%\n"
    }
   }
  },
  {
   "cell_type": "markdown",
   "source": [
    "ii) List the data types for each column"
   ],
   "metadata": {
    "collapsed": false,
    "pycharm": {
     "name": "#%% md\n"
    }
   }
  },
  {
   "cell_type": "code",
   "execution_count": 9,
   "metadata": {},
   "outputs": [
    {
     "data": {
      "text/plain": [
       "provider_number                          int64\n",
       "hospital_name                           object\n",
       "address                                 object\n",
       "city                                    object\n",
       "state                                   object\n",
       "zip_code                                 int64\n",
       "county_name                             object\n",
       "mort_30_ami_achievement_threshold      float64\n",
       "mort_30_ami_benchmark                  float64\n",
       "mort_30_ami_baseline_rate              float64\n",
       "mort_30_ami_performance_rate           float64\n",
       "mort_30_ami_achievement_points           int64\n",
       "mort_30_ami_improvement_points           int64\n",
       "mort_30_ami_measure_score                int64\n",
       "mort_30_hf_achievement_threshold       float64\n",
       "mort_30_hf_benchmark                   float64\n",
       "mort_30_hf_baseline_rate               float64\n",
       "mort_30_hf_performance_rate            float64\n",
       "mort_30_hf_achievement_points            int64\n",
       "mort_30_hf_improvement_points            int64\n",
       "mort_30_hf_measure_score                 int64\n",
       "mort_30_pn_achievement_threshold       float64\n",
       "mort_30_pn_benchmark                   float64\n",
       "mort_30_pn_baseline_rate               float64\n",
       "mort_30_pn_performance_rate            float64\n",
       "mort_30_pn_achievement_points            int64\n",
       "mort_30_pn_improvement_points            int64\n",
       "mort_30_pn_measure_score                 int64\n",
       "comp_hip_knee_achievement_threshold    float64\n",
       "comp_hip_knee_benchmark                float64\n",
       "comp_hip_knee_baseline_rate            float64\n",
       "comp_hip_knee_performance_rate         float64\n",
       "comp_hip_knee_achievement_points         int64\n",
       "comp_hip_knee_improvement_points         int64\n",
       "comp_hip_knee_measure_score              int64\n",
       "latitude                               float64\n",
       "longitude                              float64\n",
       "dtype: object"
      ]
     },
     "execution_count": 9,
     "metadata": {},
     "output_type": "execute_result"
    }
   ],
   "source": [
    "hvbp_df.dtypes\n"
   ]
  },
  {
   "cell_type": "markdown",
   "metadata": {
    "pycharm": {
     "name": "#%% md\n"
    }
   },
   "source": [
    "iii) Summary of all columns"
   ]
  },
  {
   "cell_type": "code",
   "execution_count": 15,
   "outputs": [
    {
     "name": "stdout",
     "output_type": "stream",
     "text": [
      "All numerical Columns\n"
     ]
    },
    {
     "data": {
      "text/plain": "       provider_number      zip_code  mort_30_ami_achievement_threshold  \\\ncount      2731.000000   2731.000000                        2731.000000   \nmean     256912.403149  51608.730502                           0.853715   \nstd      159049.146717  28102.463142                           0.000000   \nmin       10001.000000   1040.000000                           0.853715   \n25%      110026.000000  30068.000000                           0.853715   \n50%      250050.000000  48201.000000                           0.853715   \n75%      390065.500000  76190.500000                           0.853715   \nmax      670122.000000  99801.000000                           0.853715   \n\n       mort_30_ami_benchmark  mort_30_ami_baseline_rate  \\\ncount           2.731000e+03                2731.000000   \nmean            8.758690e-01                   0.853883   \nstd             2.220853e-16                   0.012806   \nmin             8.758690e-01                   0.799266   \n25%             8.758690e-01                   0.845970   \n50%             8.758690e-01                   0.854780   \n75%             8.758690e-01                   0.862395   \nmax             8.758690e-01                   0.907917   \n\n       mort_30_ami_performance_rate  mort_30_ami_achievement_points  \\\ncount                   2731.000000                     2731.000000   \nmean                       0.872044                        7.246796   \nstd                        0.009493                        2.716633   \nmin                        0.831566                        0.000000   \n25%                        0.866936                        6.000000   \n50%                        0.872083                        8.000000   \n75%                        0.877423                       10.000000   \nmax                        0.911739                       10.000000   \n\n       mort_30_ami_improvement_points  mort_30_ami_measure_score  \\\ncount                     2731.000000                2731.000000   \nmean                         6.344196                   7.562431   \nstd                          2.798250                   2.398878   \nmin                          0.000000                   0.000000   \n25%                          5.000000                   6.000000   \n50%                          7.000000                   8.000000   \n75%                          9.000000                  10.000000   \nmax                          9.000000                  10.000000   \n\n       mort_30_hf_achievement_threshold  ...  mort_30_pn_measure_score  \\\ncount                      2.731000e+03  ...               2731.000000   \nmean                       8.810900e-01  ...                  6.172098   \nstd                        1.110426e-16  ...                  3.095851   \nmin                        8.810900e-01  ...                  0.000000   \n25%                        8.810900e-01  ...                  4.000000   \n50%                        8.810900e-01  ...                  7.000000   \n75%                        8.810900e-01  ...                  9.000000   \nmax                        8.810900e-01  ...                 10.000000   \n\n       comp_hip_knee_achievement_threshold  comp_hip_knee_benchmark  \\\ncount                          2731.000000             2.731000e+03   \nmean                              0.032229             2.317800e-02   \nstd                               0.000000             3.470082e-18   \nmin                               0.032229             2.317800e-02   \n25%                               0.032229             2.317800e-02   \n50%                               0.032229             2.317800e-02   \n75%                               0.032229             2.317800e-02   \nmax                               0.032229             2.317800e-02   \n\n       comp_hip_knee_baseline_rate  comp_hip_knee_performance_rate  \\\ncount                  2731.000000                     2731.000000   \nmean                      0.032641                        0.025535   \nstd                       0.006178                        0.005260   \nmin                       0.015816                        0.012587   \n25%                       0.028372                        0.022319   \n50%                       0.031803                        0.025042   \n75%                       0.035979                        0.027884   \nmax                       0.064550                        0.107465   \n\n       comp_hip_knee_achievement_points  comp_hip_knee_improvement_points  \\\ncount                       2731.000000                       2731.000000   \nmean                           6.777005                          6.224826   \nstd                            3.222358                          3.141006   \nmin                            0.000000                          0.000000   \n25%                            5.000000                          5.000000   \n50%                            8.000000                          7.000000   \n75%                           10.000000                          9.000000   \nmax                           10.000000                          9.000000   \n\n       comp_hip_knee_measure_score     latitude    longitude  \ncount                  2731.000000  2584.000000  2584.000000  \nmean                      7.112779   -91.930806    37.450753  \nstd                       2.941509    15.465319     5.184017  \nmin                       0.000000  -159.366198    19.519237  \n25%                       6.000000   -97.512445    33.791066  \n50%                       8.000000   -87.683200    37.973732  \n75%                      10.000000   -81.192737    41.294664  \nmax                      10.000000   -68.009639    64.831407  \n\n[8 rows x 32 columns]",
      "text/html": "<div>\n<style scoped>\n    .dataframe tbody tr th:only-of-type {\n        vertical-align: middle;\n    }\n\n    .dataframe tbody tr th {\n        vertical-align: top;\n    }\n\n    .dataframe thead th {\n        text-align: right;\n    }\n</style>\n<table border=\"1\" class=\"dataframe\">\n  <thead>\n    <tr style=\"text-align: right;\">\n      <th></th>\n      <th>provider_number</th>\n      <th>zip_code</th>\n      <th>mort_30_ami_achievement_threshold</th>\n      <th>mort_30_ami_benchmark</th>\n      <th>mort_30_ami_baseline_rate</th>\n      <th>mort_30_ami_performance_rate</th>\n      <th>mort_30_ami_achievement_points</th>\n      <th>mort_30_ami_improvement_points</th>\n      <th>mort_30_ami_measure_score</th>\n      <th>mort_30_hf_achievement_threshold</th>\n      <th>...</th>\n      <th>mort_30_pn_measure_score</th>\n      <th>comp_hip_knee_achievement_threshold</th>\n      <th>comp_hip_knee_benchmark</th>\n      <th>comp_hip_knee_baseline_rate</th>\n      <th>comp_hip_knee_performance_rate</th>\n      <th>comp_hip_knee_achievement_points</th>\n      <th>comp_hip_knee_improvement_points</th>\n      <th>comp_hip_knee_measure_score</th>\n      <th>latitude</th>\n      <th>longitude</th>\n    </tr>\n  </thead>\n  <tbody>\n    <tr>\n      <th>count</th>\n      <td>2731.000000</td>\n      <td>2731.000000</td>\n      <td>2731.000000</td>\n      <td>2.731000e+03</td>\n      <td>2731.000000</td>\n      <td>2731.000000</td>\n      <td>2731.000000</td>\n      <td>2731.000000</td>\n      <td>2731.000000</td>\n      <td>2.731000e+03</td>\n      <td>...</td>\n      <td>2731.000000</td>\n      <td>2731.000000</td>\n      <td>2.731000e+03</td>\n      <td>2731.000000</td>\n      <td>2731.000000</td>\n      <td>2731.000000</td>\n      <td>2731.000000</td>\n      <td>2731.000000</td>\n      <td>2584.000000</td>\n      <td>2584.000000</td>\n    </tr>\n    <tr>\n      <th>mean</th>\n      <td>256912.403149</td>\n      <td>51608.730502</td>\n      <td>0.853715</td>\n      <td>8.758690e-01</td>\n      <td>0.853883</td>\n      <td>0.872044</td>\n      <td>7.246796</td>\n      <td>6.344196</td>\n      <td>7.562431</td>\n      <td>8.810900e-01</td>\n      <td>...</td>\n      <td>6.172098</td>\n      <td>0.032229</td>\n      <td>2.317800e-02</td>\n      <td>0.032641</td>\n      <td>0.025535</td>\n      <td>6.777005</td>\n      <td>6.224826</td>\n      <td>7.112779</td>\n      <td>-91.930806</td>\n      <td>37.450753</td>\n    </tr>\n    <tr>\n      <th>std</th>\n      <td>159049.146717</td>\n      <td>28102.463142</td>\n      <td>0.000000</td>\n      <td>2.220853e-16</td>\n      <td>0.012806</td>\n      <td>0.009493</td>\n      <td>2.716633</td>\n      <td>2.798250</td>\n      <td>2.398878</td>\n      <td>1.110426e-16</td>\n      <td>...</td>\n      <td>3.095851</td>\n      <td>0.000000</td>\n      <td>3.470082e-18</td>\n      <td>0.006178</td>\n      <td>0.005260</td>\n      <td>3.222358</td>\n      <td>3.141006</td>\n      <td>2.941509</td>\n      <td>15.465319</td>\n      <td>5.184017</td>\n    </tr>\n    <tr>\n      <th>min</th>\n      <td>10001.000000</td>\n      <td>1040.000000</td>\n      <td>0.853715</td>\n      <td>8.758690e-01</td>\n      <td>0.799266</td>\n      <td>0.831566</td>\n      <td>0.000000</td>\n      <td>0.000000</td>\n      <td>0.000000</td>\n      <td>8.810900e-01</td>\n      <td>...</td>\n      <td>0.000000</td>\n      <td>0.032229</td>\n      <td>2.317800e-02</td>\n      <td>0.015816</td>\n      <td>0.012587</td>\n      <td>0.000000</td>\n      <td>0.000000</td>\n      <td>0.000000</td>\n      <td>-159.366198</td>\n      <td>19.519237</td>\n    </tr>\n    <tr>\n      <th>25%</th>\n      <td>110026.000000</td>\n      <td>30068.000000</td>\n      <td>0.853715</td>\n      <td>8.758690e-01</td>\n      <td>0.845970</td>\n      <td>0.866936</td>\n      <td>6.000000</td>\n      <td>5.000000</td>\n      <td>6.000000</td>\n      <td>8.810900e-01</td>\n      <td>...</td>\n      <td>4.000000</td>\n      <td>0.032229</td>\n      <td>2.317800e-02</td>\n      <td>0.028372</td>\n      <td>0.022319</td>\n      <td>5.000000</td>\n      <td>5.000000</td>\n      <td>6.000000</td>\n      <td>-97.512445</td>\n      <td>33.791066</td>\n    </tr>\n    <tr>\n      <th>50%</th>\n      <td>250050.000000</td>\n      <td>48201.000000</td>\n      <td>0.853715</td>\n      <td>8.758690e-01</td>\n      <td>0.854780</td>\n      <td>0.872083</td>\n      <td>8.000000</td>\n      <td>7.000000</td>\n      <td>8.000000</td>\n      <td>8.810900e-01</td>\n      <td>...</td>\n      <td>7.000000</td>\n      <td>0.032229</td>\n      <td>2.317800e-02</td>\n      <td>0.031803</td>\n      <td>0.025042</td>\n      <td>8.000000</td>\n      <td>7.000000</td>\n      <td>8.000000</td>\n      <td>-87.683200</td>\n      <td>37.973732</td>\n    </tr>\n    <tr>\n      <th>75%</th>\n      <td>390065.500000</td>\n      <td>76190.500000</td>\n      <td>0.853715</td>\n      <td>8.758690e-01</td>\n      <td>0.862395</td>\n      <td>0.877423</td>\n      <td>10.000000</td>\n      <td>9.000000</td>\n      <td>10.000000</td>\n      <td>8.810900e-01</td>\n      <td>...</td>\n      <td>9.000000</td>\n      <td>0.032229</td>\n      <td>2.317800e-02</td>\n      <td>0.035979</td>\n      <td>0.027884</td>\n      <td>10.000000</td>\n      <td>9.000000</td>\n      <td>10.000000</td>\n      <td>-81.192737</td>\n      <td>41.294664</td>\n    </tr>\n    <tr>\n      <th>max</th>\n      <td>670122.000000</td>\n      <td>99801.000000</td>\n      <td>0.853715</td>\n      <td>8.758690e-01</td>\n      <td>0.907917</td>\n      <td>0.911739</td>\n      <td>10.000000</td>\n      <td>9.000000</td>\n      <td>10.000000</td>\n      <td>8.810900e-01</td>\n      <td>...</td>\n      <td>10.000000</td>\n      <td>0.032229</td>\n      <td>2.317800e-02</td>\n      <td>0.064550</td>\n      <td>0.107465</td>\n      <td>10.000000</td>\n      <td>9.000000</td>\n      <td>10.000000</td>\n      <td>-68.009639</td>\n      <td>64.831407</td>\n    </tr>\n  </tbody>\n</table>\n<p>8 rows × 32 columns</p>\n</div>"
     },
     "execution_count": 15,
     "metadata": {},
     "output_type": "execute_result"
    }
   ],
   "source": [
    "print(\"All numerical Columns\")\n",
    "hvbp_df.describe()"
   ],
   "metadata": {
    "collapsed": false,
    "pycharm": {
     "name": "#%%\n"
    }
   }
  },
  {
   "cell_type": "code",
   "execution_count": 16,
   "outputs": [
    {
     "name": "stdout",
     "output_type": "stream",
     "text": [
      "All categorical Columns\n"
     ]
    },
    {
     "data": {
      "text/plain": "            hospital_name             address     city state  county_name\ncount                2731                2731     2731  2731         2731\nunique               2644                2724     1716    50          944\ntop     MEMORIAL HOSPITAL  100 HOSPITAL DRIVE  CHICAGO    CA  Los Angeles\nfreq                    7                   3       22   269           71",
      "text/html": "<div>\n<style scoped>\n    .dataframe tbody tr th:only-of-type {\n        vertical-align: middle;\n    }\n\n    .dataframe tbody tr th {\n        vertical-align: top;\n    }\n\n    .dataframe thead th {\n        text-align: right;\n    }\n</style>\n<table border=\"1\" class=\"dataframe\">\n  <thead>\n    <tr style=\"text-align: right;\">\n      <th></th>\n      <th>hospital_name</th>\n      <th>address</th>\n      <th>city</th>\n      <th>state</th>\n      <th>county_name</th>\n    </tr>\n  </thead>\n  <tbody>\n    <tr>\n      <th>count</th>\n      <td>2731</td>\n      <td>2731</td>\n      <td>2731</td>\n      <td>2731</td>\n      <td>2731</td>\n    </tr>\n    <tr>\n      <th>unique</th>\n      <td>2644</td>\n      <td>2724</td>\n      <td>1716</td>\n      <td>50</td>\n      <td>944</td>\n    </tr>\n    <tr>\n      <th>top</th>\n      <td>MEMORIAL HOSPITAL</td>\n      <td>100 HOSPITAL DRIVE</td>\n      <td>CHICAGO</td>\n      <td>CA</td>\n      <td>Los Angeles</td>\n    </tr>\n    <tr>\n      <th>freq</th>\n      <td>7</td>\n      <td>3</td>\n      <td>22</td>\n      <td>269</td>\n      <td>71</td>\n    </tr>\n  </tbody>\n</table>\n</div>"
     },
     "execution_count": 16,
     "metadata": {},
     "output_type": "execute_result"
    }
   ],
   "source": [
    "print(\"All categorical Columns\")\n",
    "hvbp_df.describe(include=['object'])"
   ],
   "metadata": {
    "collapsed": false,
    "pycharm": {
     "name": "#%%\n"
    }
   }
  },
  {
   "cell_type": "markdown",
   "source": [
    "iv) Summary of columns containg improvement and achievement points and measures for diffferent features"
   ],
   "metadata": {
    "collapsed": false,
    "pycharm": {
     "name": "#%% md\n"
    }
   }
  },
  {
   "cell_type": "code",
   "execution_count": 3,
   "metadata": {
    "pycharm": {
     "name": "#%%\n"
    }
   },
   "outputs": [
    {
     "name": "stdout",
     "output_type": "stream",
     "text": [
      "Creating a new data frame contaning only improvement and achievement points and measures\n"
     ]
    },
    {
     "data": {
      "text/plain": "   mort_30_ami_achievement_points  mort_30_ami_improvement_points  \\\n0                               8                               8   \n1                              10                               9   \n2                              10                               9   \n3                               1                               0   \n4                               1                               5   \n\n   mort_30_ami_measure_score  mort_30_hf_achievement_points  \\\n0                          8                             10   \n1                         10                              9   \n2                         10                             10   \n3                          1                              2   \n4                          5                              0   \n\n   mort_30_hf_improvement_points  mort_30_hf_measure_score  \\\n0                              9                        10   \n1                              0                         9   \n2                              9                        10   \n3                              5                         5   \n4                              3                         3   \n\n   mort_30_pn_achievement_points  mort_30_pn_improvement_points  \\\n0                              9                              9   \n1                             10                              9   \n2                             10                              9   \n3                              8                              4   \n4                              3                              0   \n\n   mort_30_pn_measure_score  comp_hip_knee_achievement_points  \\\n0                         9                                10   \n1                        10                                10   \n2                        10                                 7   \n3                         8                                 0   \n4                         3                                 2   \n\n   comp_hip_knee_improvement_points  comp_hip_knee_measure_score  \n0                                 9                           10  \n1                                 9                           10  \n2                                 8                            7  \n3                                 0                            0  \n4                                 1                            2  ",
      "text/html": "<div>\n<style scoped>\n    .dataframe tbody tr th:only-of-type {\n        vertical-align: middle;\n    }\n\n    .dataframe tbody tr th {\n        vertical-align: top;\n    }\n\n    .dataframe thead th {\n        text-align: right;\n    }\n</style>\n<table border=\"1\" class=\"dataframe\">\n  <thead>\n    <tr style=\"text-align: right;\">\n      <th></th>\n      <th>mort_30_ami_achievement_points</th>\n      <th>mort_30_ami_improvement_points</th>\n      <th>mort_30_ami_measure_score</th>\n      <th>mort_30_hf_achievement_points</th>\n      <th>mort_30_hf_improvement_points</th>\n      <th>mort_30_hf_measure_score</th>\n      <th>mort_30_pn_achievement_points</th>\n      <th>mort_30_pn_improvement_points</th>\n      <th>mort_30_pn_measure_score</th>\n      <th>comp_hip_knee_achievement_points</th>\n      <th>comp_hip_knee_improvement_points</th>\n      <th>comp_hip_knee_measure_score</th>\n    </tr>\n  </thead>\n  <tbody>\n    <tr>\n      <th>0</th>\n      <td>8</td>\n      <td>8</td>\n      <td>8</td>\n      <td>10</td>\n      <td>9</td>\n      <td>10</td>\n      <td>9</td>\n      <td>9</td>\n      <td>9</td>\n      <td>10</td>\n      <td>9</td>\n      <td>10</td>\n    </tr>\n    <tr>\n      <th>1</th>\n      <td>10</td>\n      <td>9</td>\n      <td>10</td>\n      <td>9</td>\n      <td>0</td>\n      <td>9</td>\n      <td>10</td>\n      <td>9</td>\n      <td>10</td>\n      <td>10</td>\n      <td>9</td>\n      <td>10</td>\n    </tr>\n    <tr>\n      <th>2</th>\n      <td>10</td>\n      <td>9</td>\n      <td>10</td>\n      <td>10</td>\n      <td>9</td>\n      <td>10</td>\n      <td>10</td>\n      <td>9</td>\n      <td>10</td>\n      <td>7</td>\n      <td>8</td>\n      <td>7</td>\n    </tr>\n    <tr>\n      <th>3</th>\n      <td>1</td>\n      <td>0</td>\n      <td>1</td>\n      <td>2</td>\n      <td>5</td>\n      <td>5</td>\n      <td>8</td>\n      <td>4</td>\n      <td>8</td>\n      <td>0</td>\n      <td>0</td>\n      <td>0</td>\n    </tr>\n    <tr>\n      <th>4</th>\n      <td>1</td>\n      <td>5</td>\n      <td>5</td>\n      <td>0</td>\n      <td>3</td>\n      <td>3</td>\n      <td>3</td>\n      <td>0</td>\n      <td>3</td>\n      <td>2</td>\n      <td>1</td>\n      <td>2</td>\n    </tr>\n  </tbody>\n</table>\n</div>"
     },
     "execution_count": 3,
     "metadata": {},
     "output_type": "execute_result"
    }
   ],
   "source": [
    "print(\"Creating a new data frame contaning only improvement and achievement points and measures\")\n",
    "features = ['mort_30_ami_achievement_points','mort_30_ami_improvement_points','mort_30_ami_measure_score',\n",
    "            'mort_30_hf_achievement_points','mort_30_hf_improvement_points','mort_30_hf_measure_score',\n",
    "            'mort_30_pn_achievement_points','mort_30_pn_improvement_points','mort_30_pn_measure_score',\n",
    "            'comp_hip_knee_achievement_points','comp_hip_knee_improvement_points','comp_hip_knee_measure_score']\n",
    "hvbp_df_m = hvbp_df[features]\n",
    "hvbp_df_m.head()"
   ]
  },
  {
   "cell_type": "code",
   "execution_count": 14,
   "outputs": [
    {
     "name": "stdout",
     "output_type": "stream",
     "text": [
      "Summary of hvbp_df_m\n"
     ]
    },
    {
     "data": {
      "text/plain": "       mort_30_ami_achievement_points  mort_30_ami_improvement_points  \\\ncount                     2731.000000                     2731.000000   \nmean                         7.246796                        6.344196   \nstd                          2.716633                        2.798250   \nmin                          0.000000                        0.000000   \n25%                          6.000000                        5.000000   \n50%                          8.000000                        7.000000   \n75%                         10.000000                        9.000000   \nmax                         10.000000                        9.000000   \n\n       mort_30_ami_measure_score  mort_30_hf_achievement_points  \\\ncount                2731.000000                    2731.000000   \nmean                    7.562431                       2.930795   \nstd                     2.398878                       3.325554   \nmin                     0.000000                       0.000000   \n25%                     6.000000                       0.000000   \n50%                     8.000000                       2.000000   \n75%                    10.000000                       5.000000   \nmax                    10.000000                      10.000000   \n\n       mort_30_hf_improvement_points  mort_30_hf_measure_score  \\\ncount                    2731.000000               2731.000000   \nmean                        2.448187                  3.406445   \nstd                         3.005698                  3.245106   \nmin                         0.000000                  0.000000   \n25%                         0.000000                  0.000000   \n50%                         1.000000                  3.000000   \n75%                         4.000000                  6.000000   \nmax                         9.000000                 10.000000   \n\n       mort_30_pn_achievement_points  mort_30_pn_improvement_points  \\\ncount                    2731.000000                    2731.000000   \nmean                        5.623947                       5.055291   \nstd                         3.458005                       3.369474   \nmin                         0.000000                       0.000000   \n25%                         3.000000                       2.000000   \n50%                         6.000000                       6.000000   \n75%                         9.000000                       9.000000   \nmax                        10.000000                       9.000000   \n\n       mort_30_pn_measure_score  comp_hip_knee_achievement_points  \\\ncount               2731.000000                       2731.000000   \nmean                   6.172098                          6.777005   \nstd                    3.095851                          3.222358   \nmin                    0.000000                          0.000000   \n25%                    4.000000                          5.000000   \n50%                    7.000000                          8.000000   \n75%                    9.000000                         10.000000   \nmax                   10.000000                         10.000000   \n\n       comp_hip_knee_improvement_points  comp_hip_knee_measure_score  \ncount                       2731.000000                  2731.000000  \nmean                           6.224826                     7.112779  \nstd                            3.141006                     2.941509  \nmin                            0.000000                     0.000000  \n25%                            5.000000                     6.000000  \n50%                            7.000000                     8.000000  \n75%                            9.000000                    10.000000  \nmax                            9.000000                    10.000000  ",
      "text/html": "<div>\n<style scoped>\n    .dataframe tbody tr th:only-of-type {\n        vertical-align: middle;\n    }\n\n    .dataframe tbody tr th {\n        vertical-align: top;\n    }\n\n    .dataframe thead th {\n        text-align: right;\n    }\n</style>\n<table border=\"1\" class=\"dataframe\">\n  <thead>\n    <tr style=\"text-align: right;\">\n      <th></th>\n      <th>mort_30_ami_achievement_points</th>\n      <th>mort_30_ami_improvement_points</th>\n      <th>mort_30_ami_measure_score</th>\n      <th>mort_30_hf_achievement_points</th>\n      <th>mort_30_hf_improvement_points</th>\n      <th>mort_30_hf_measure_score</th>\n      <th>mort_30_pn_achievement_points</th>\n      <th>mort_30_pn_improvement_points</th>\n      <th>mort_30_pn_measure_score</th>\n      <th>comp_hip_knee_achievement_points</th>\n      <th>comp_hip_knee_improvement_points</th>\n      <th>comp_hip_knee_measure_score</th>\n    </tr>\n  </thead>\n  <tbody>\n    <tr>\n      <th>count</th>\n      <td>2731.000000</td>\n      <td>2731.000000</td>\n      <td>2731.000000</td>\n      <td>2731.000000</td>\n      <td>2731.000000</td>\n      <td>2731.000000</td>\n      <td>2731.000000</td>\n      <td>2731.000000</td>\n      <td>2731.000000</td>\n      <td>2731.000000</td>\n      <td>2731.000000</td>\n      <td>2731.000000</td>\n    </tr>\n    <tr>\n      <th>mean</th>\n      <td>7.246796</td>\n      <td>6.344196</td>\n      <td>7.562431</td>\n      <td>2.930795</td>\n      <td>2.448187</td>\n      <td>3.406445</td>\n      <td>5.623947</td>\n      <td>5.055291</td>\n      <td>6.172098</td>\n      <td>6.777005</td>\n      <td>6.224826</td>\n      <td>7.112779</td>\n    </tr>\n    <tr>\n      <th>std</th>\n      <td>2.716633</td>\n      <td>2.798250</td>\n      <td>2.398878</td>\n      <td>3.325554</td>\n      <td>3.005698</td>\n      <td>3.245106</td>\n      <td>3.458005</td>\n      <td>3.369474</td>\n      <td>3.095851</td>\n      <td>3.222358</td>\n      <td>3.141006</td>\n      <td>2.941509</td>\n    </tr>\n    <tr>\n      <th>min</th>\n      <td>0.000000</td>\n      <td>0.000000</td>\n      <td>0.000000</td>\n      <td>0.000000</td>\n      <td>0.000000</td>\n      <td>0.000000</td>\n      <td>0.000000</td>\n      <td>0.000000</td>\n      <td>0.000000</td>\n      <td>0.000000</td>\n      <td>0.000000</td>\n      <td>0.000000</td>\n    </tr>\n    <tr>\n      <th>25%</th>\n      <td>6.000000</td>\n      <td>5.000000</td>\n      <td>6.000000</td>\n      <td>0.000000</td>\n      <td>0.000000</td>\n      <td>0.000000</td>\n      <td>3.000000</td>\n      <td>2.000000</td>\n      <td>4.000000</td>\n      <td>5.000000</td>\n      <td>5.000000</td>\n      <td>6.000000</td>\n    </tr>\n    <tr>\n      <th>50%</th>\n      <td>8.000000</td>\n      <td>7.000000</td>\n      <td>8.000000</td>\n      <td>2.000000</td>\n      <td>1.000000</td>\n      <td>3.000000</td>\n      <td>6.000000</td>\n      <td>6.000000</td>\n      <td>7.000000</td>\n      <td>8.000000</td>\n      <td>7.000000</td>\n      <td>8.000000</td>\n    </tr>\n    <tr>\n      <th>75%</th>\n      <td>10.000000</td>\n      <td>9.000000</td>\n      <td>10.000000</td>\n      <td>5.000000</td>\n      <td>4.000000</td>\n      <td>6.000000</td>\n      <td>9.000000</td>\n      <td>9.000000</td>\n      <td>9.000000</td>\n      <td>10.000000</td>\n      <td>9.000000</td>\n      <td>10.000000</td>\n    </tr>\n    <tr>\n      <th>max</th>\n      <td>10.000000</td>\n      <td>9.000000</td>\n      <td>10.000000</td>\n      <td>10.000000</td>\n      <td>9.000000</td>\n      <td>10.000000</td>\n      <td>10.000000</td>\n      <td>9.000000</td>\n      <td>10.000000</td>\n      <td>10.000000</td>\n      <td>9.000000</td>\n      <td>10.000000</td>\n    </tr>\n  </tbody>\n</table>\n</div>"
     },
     "execution_count": 14,
     "metadata": {},
     "output_type": "execute_result"
    }
   ],
   "source": [
    "print(\"Summary of hvbp_df_m\")\n",
    "hvbp_df_m.describe()"
   ],
   "metadata": {
    "collapsed": false,
    "pycharm": {
     "name": "#%%\n"
    }
   }
  },
  {
   "cell_type": "markdown",
   "metadata": {},
   "source": [
    "v) Finding correlations between columns of new data frame hvbp_df_m"
   ]
  },
  {
   "cell_type": "code",
   "execution_count": 17,
   "metadata": {
    "pycharm": {
     "name": "#%%\n"
    }
   },
   "outputs": [
    {
     "data": {
      "text/plain": "                                  mort_30_ami_achievement_points  \\\nmort_30_ami_achievement_points                          1.000000   \nmort_30_ami_improvement_points                          0.729198   \nmort_30_ami_measure_score                               0.961827   \nmort_30_hf_achievement_points                           0.269897   \nmort_30_hf_improvement_points                           0.172574   \nmort_30_hf_measure_score                                0.246065   \nmort_30_pn_achievement_points                           0.192212   \nmort_30_pn_improvement_points                           0.079623   \nmort_30_pn_measure_score                                0.159886   \ncomp_hip_knee_achievement_points                        0.013319   \ncomp_hip_knee_improvement_points                        0.014358   \ncomp_hip_knee_measure_score                             0.010909   \n\n                                  mort_30_ami_improvement_points  \\\nmort_30_ami_achievement_points                          0.729198   \nmort_30_ami_improvement_points                          1.000000   \nmort_30_ami_measure_score                               0.800484   \nmort_30_hf_achievement_points                           0.135017   \nmort_30_hf_improvement_points                           0.124763   \nmort_30_hf_measure_score                                0.129687   \nmort_30_pn_achievement_points                           0.073268   \nmort_30_pn_improvement_points                           0.052526   \nmort_30_pn_measure_score                                0.065760   \ncomp_hip_knee_achievement_points                       -0.003184   \ncomp_hip_knee_improvement_points                       -0.010975   \ncomp_hip_knee_measure_score                            -0.007610   \n\n                                  mort_30_ami_measure_score  \\\nmort_30_ami_achievement_points                     0.961827   \nmort_30_ami_improvement_points                     0.800484   \nmort_30_ami_measure_score                          1.000000   \nmort_30_hf_achievement_points                      0.247915   \nmort_30_hf_improvement_points                      0.171589   \nmort_30_hf_measure_score                           0.231164   \nmort_30_pn_achievement_points                      0.181338   \nmort_30_pn_improvement_points                      0.090004   \nmort_30_pn_measure_score                           0.157915   \ncomp_hip_knee_achievement_points                   0.016231   \ncomp_hip_knee_improvement_points                   0.019138   \ncomp_hip_knee_measure_score                        0.014108   \n\n                                  mort_30_hf_achievement_points  \\\nmort_30_ami_achievement_points                         0.269897   \nmort_30_ami_improvement_points                         0.135017   \nmort_30_ami_measure_score                              0.247915   \nmort_30_hf_achievement_points                          1.000000   \nmort_30_hf_improvement_points                          0.741414   \nmort_30_hf_measure_score                               0.951845   \nmort_30_pn_achievement_points                          0.351016   \nmort_30_pn_improvement_points                          0.198376   \nmort_30_pn_measure_score                               0.316209   \ncomp_hip_knee_achievement_points                      -0.022223   \ncomp_hip_knee_improvement_points                      -0.013273   \ncomp_hip_knee_measure_score                           -0.019273   \n\n                                  mort_30_hf_improvement_points  \\\nmort_30_ami_achievement_points                         0.172574   \nmort_30_ami_improvement_points                         0.124763   \nmort_30_ami_measure_score                              0.171589   \nmort_30_hf_achievement_points                          0.741414   \nmort_30_hf_improvement_points                          1.000000   \nmort_30_hf_measure_score                               0.832830   \nmort_30_pn_achievement_points                          0.207236   \nmort_30_pn_improvement_points                          0.183928   \nmort_30_pn_measure_score                               0.212507   \ncomp_hip_knee_achievement_points                      -0.020311   \ncomp_hip_knee_improvement_points                      -0.013083   \ncomp_hip_knee_measure_score                           -0.019350   \n\n                                  mort_30_hf_measure_score  \\\nmort_30_ami_achievement_points                    0.246065   \nmort_30_ami_improvement_points                    0.129687   \nmort_30_ami_measure_score                         0.231164   \nmort_30_hf_achievement_points                     0.951845   \nmort_30_hf_improvement_points                     0.832830   \nmort_30_hf_measure_score                          1.000000   \nmort_30_pn_achievement_points                     0.314883   \nmort_30_pn_improvement_points                     0.203802   \nmort_30_pn_measure_score                          0.299198   \ncomp_hip_knee_achievement_points                 -0.023171   \ncomp_hip_knee_improvement_points                 -0.010585   \ncomp_hip_knee_measure_score                      -0.019731   \n\n                                  mort_30_pn_achievement_points  \\\nmort_30_ami_achievement_points                         0.192212   \nmort_30_ami_improvement_points                         0.073268   \nmort_30_ami_measure_score                              0.181338   \nmort_30_hf_achievement_points                          0.351016   \nmort_30_hf_improvement_points                          0.207236   \nmort_30_hf_measure_score                               0.314883   \nmort_30_pn_achievement_points                          1.000000   \nmort_30_pn_improvement_points                          0.749183   \nmort_30_pn_measure_score                               0.946924   \ncomp_hip_knee_achievement_points                       0.032248   \ncomp_hip_knee_improvement_points                       0.028089   \ncomp_hip_knee_measure_score                            0.033953   \n\n                                  mort_30_pn_improvement_points  \\\nmort_30_ami_achievement_points                         0.079623   \nmort_30_ami_improvement_points                         0.052526   \nmort_30_ami_measure_score                              0.090004   \nmort_30_hf_achievement_points                          0.198376   \nmort_30_hf_improvement_points                          0.183928   \nmort_30_hf_measure_score                               0.203802   \nmort_30_pn_achievement_points                          0.749183   \nmort_30_pn_improvement_points                          1.000000   \nmort_30_pn_measure_score                               0.841572   \ncomp_hip_knee_achievement_points                       0.021310   \ncomp_hip_knee_improvement_points                       0.030009   \ncomp_hip_knee_measure_score                            0.024095   \n\n                                  mort_30_pn_measure_score  \\\nmort_30_ami_achievement_points                    0.159886   \nmort_30_ami_improvement_points                    0.065760   \nmort_30_ami_measure_score                         0.157915   \nmort_30_hf_achievement_points                     0.316209   \nmort_30_hf_improvement_points                     0.212507   \nmort_30_hf_measure_score                          0.299198   \nmort_30_pn_achievement_points                     0.946924   \nmort_30_pn_improvement_points                     0.841572   \nmort_30_pn_measure_score                          1.000000   \ncomp_hip_knee_achievement_points                  0.028927   \ncomp_hip_knee_improvement_points                  0.025854   \ncomp_hip_knee_measure_score                       0.028800   \n\n                                  comp_hip_knee_achievement_points  \\\nmort_30_ami_achievement_points                            0.013319   \nmort_30_ami_improvement_points                           -0.003184   \nmort_30_ami_measure_score                                 0.016231   \nmort_30_hf_achievement_points                            -0.022223   \nmort_30_hf_improvement_points                            -0.020311   \nmort_30_hf_measure_score                                 -0.023171   \nmort_30_pn_achievement_points                             0.032248   \nmort_30_pn_improvement_points                             0.021310   \nmort_30_pn_measure_score                                  0.028927   \ncomp_hip_knee_achievement_points                          1.000000   \ncomp_hip_knee_improvement_points                          0.803644   \ncomp_hip_knee_measure_score                               0.962635   \n\n                                  comp_hip_knee_improvement_points  \\\nmort_30_ami_achievement_points                            0.014358   \nmort_30_ami_improvement_points                           -0.010975   \nmort_30_ami_measure_score                                 0.019138   \nmort_30_hf_achievement_points                            -0.013273   \nmort_30_hf_improvement_points                            -0.013083   \nmort_30_hf_measure_score                                 -0.010585   \nmort_30_pn_achievement_points                             0.028089   \nmort_30_pn_improvement_points                             0.030009   \nmort_30_pn_measure_score                                  0.025854   \ncomp_hip_knee_achievement_points                          0.803644   \ncomp_hip_knee_improvement_points                          1.000000   \ncomp_hip_knee_measure_score                               0.861099   \n\n                                  comp_hip_knee_measure_score  \nmort_30_ami_achievement_points                       0.010909  \nmort_30_ami_improvement_points                      -0.007610  \nmort_30_ami_measure_score                            0.014108  \nmort_30_hf_achievement_points                       -0.019273  \nmort_30_hf_improvement_points                       -0.019350  \nmort_30_hf_measure_score                            -0.019731  \nmort_30_pn_achievement_points                        0.033953  \nmort_30_pn_improvement_points                        0.024095  \nmort_30_pn_measure_score                             0.028800  \ncomp_hip_knee_achievement_points                     0.962635  \ncomp_hip_knee_improvement_points                     0.861099  \ncomp_hip_knee_measure_score                          1.000000  ",
      "text/html": "<div>\n<style scoped>\n    .dataframe tbody tr th:only-of-type {\n        vertical-align: middle;\n    }\n\n    .dataframe tbody tr th {\n        vertical-align: top;\n    }\n\n    .dataframe thead th {\n        text-align: right;\n    }\n</style>\n<table border=\"1\" class=\"dataframe\">\n  <thead>\n    <tr style=\"text-align: right;\">\n      <th></th>\n      <th>mort_30_ami_achievement_points</th>\n      <th>mort_30_ami_improvement_points</th>\n      <th>mort_30_ami_measure_score</th>\n      <th>mort_30_hf_achievement_points</th>\n      <th>mort_30_hf_improvement_points</th>\n      <th>mort_30_hf_measure_score</th>\n      <th>mort_30_pn_achievement_points</th>\n      <th>mort_30_pn_improvement_points</th>\n      <th>mort_30_pn_measure_score</th>\n      <th>comp_hip_knee_achievement_points</th>\n      <th>comp_hip_knee_improvement_points</th>\n      <th>comp_hip_knee_measure_score</th>\n    </tr>\n  </thead>\n  <tbody>\n    <tr>\n      <th>mort_30_ami_achievement_points</th>\n      <td>1.000000</td>\n      <td>0.729198</td>\n      <td>0.961827</td>\n      <td>0.269897</td>\n      <td>0.172574</td>\n      <td>0.246065</td>\n      <td>0.192212</td>\n      <td>0.079623</td>\n      <td>0.159886</td>\n      <td>0.013319</td>\n      <td>0.014358</td>\n      <td>0.010909</td>\n    </tr>\n    <tr>\n      <th>mort_30_ami_improvement_points</th>\n      <td>0.729198</td>\n      <td>1.000000</td>\n      <td>0.800484</td>\n      <td>0.135017</td>\n      <td>0.124763</td>\n      <td>0.129687</td>\n      <td>0.073268</td>\n      <td>0.052526</td>\n      <td>0.065760</td>\n      <td>-0.003184</td>\n      <td>-0.010975</td>\n      <td>-0.007610</td>\n    </tr>\n    <tr>\n      <th>mort_30_ami_measure_score</th>\n      <td>0.961827</td>\n      <td>0.800484</td>\n      <td>1.000000</td>\n      <td>0.247915</td>\n      <td>0.171589</td>\n      <td>0.231164</td>\n      <td>0.181338</td>\n      <td>0.090004</td>\n      <td>0.157915</td>\n      <td>0.016231</td>\n      <td>0.019138</td>\n      <td>0.014108</td>\n    </tr>\n    <tr>\n      <th>mort_30_hf_achievement_points</th>\n      <td>0.269897</td>\n      <td>0.135017</td>\n      <td>0.247915</td>\n      <td>1.000000</td>\n      <td>0.741414</td>\n      <td>0.951845</td>\n      <td>0.351016</td>\n      <td>0.198376</td>\n      <td>0.316209</td>\n      <td>-0.022223</td>\n      <td>-0.013273</td>\n      <td>-0.019273</td>\n    </tr>\n    <tr>\n      <th>mort_30_hf_improvement_points</th>\n      <td>0.172574</td>\n      <td>0.124763</td>\n      <td>0.171589</td>\n      <td>0.741414</td>\n      <td>1.000000</td>\n      <td>0.832830</td>\n      <td>0.207236</td>\n      <td>0.183928</td>\n      <td>0.212507</td>\n      <td>-0.020311</td>\n      <td>-0.013083</td>\n      <td>-0.019350</td>\n    </tr>\n    <tr>\n      <th>mort_30_hf_measure_score</th>\n      <td>0.246065</td>\n      <td>0.129687</td>\n      <td>0.231164</td>\n      <td>0.951845</td>\n      <td>0.832830</td>\n      <td>1.000000</td>\n      <td>0.314883</td>\n      <td>0.203802</td>\n      <td>0.299198</td>\n      <td>-0.023171</td>\n      <td>-0.010585</td>\n      <td>-0.019731</td>\n    </tr>\n    <tr>\n      <th>mort_30_pn_achievement_points</th>\n      <td>0.192212</td>\n      <td>0.073268</td>\n      <td>0.181338</td>\n      <td>0.351016</td>\n      <td>0.207236</td>\n      <td>0.314883</td>\n      <td>1.000000</td>\n      <td>0.749183</td>\n      <td>0.946924</td>\n      <td>0.032248</td>\n      <td>0.028089</td>\n      <td>0.033953</td>\n    </tr>\n    <tr>\n      <th>mort_30_pn_improvement_points</th>\n      <td>0.079623</td>\n      <td>0.052526</td>\n      <td>0.090004</td>\n      <td>0.198376</td>\n      <td>0.183928</td>\n      <td>0.203802</td>\n      <td>0.749183</td>\n      <td>1.000000</td>\n      <td>0.841572</td>\n      <td>0.021310</td>\n      <td>0.030009</td>\n      <td>0.024095</td>\n    </tr>\n    <tr>\n      <th>mort_30_pn_measure_score</th>\n      <td>0.159886</td>\n      <td>0.065760</td>\n      <td>0.157915</td>\n      <td>0.316209</td>\n      <td>0.212507</td>\n      <td>0.299198</td>\n      <td>0.946924</td>\n      <td>0.841572</td>\n      <td>1.000000</td>\n      <td>0.028927</td>\n      <td>0.025854</td>\n      <td>0.028800</td>\n    </tr>\n    <tr>\n      <th>comp_hip_knee_achievement_points</th>\n      <td>0.013319</td>\n      <td>-0.003184</td>\n      <td>0.016231</td>\n      <td>-0.022223</td>\n      <td>-0.020311</td>\n      <td>-0.023171</td>\n      <td>0.032248</td>\n      <td>0.021310</td>\n      <td>0.028927</td>\n      <td>1.000000</td>\n      <td>0.803644</td>\n      <td>0.962635</td>\n    </tr>\n    <tr>\n      <th>comp_hip_knee_improvement_points</th>\n      <td>0.014358</td>\n      <td>-0.010975</td>\n      <td>0.019138</td>\n      <td>-0.013273</td>\n      <td>-0.013083</td>\n      <td>-0.010585</td>\n      <td>0.028089</td>\n      <td>0.030009</td>\n      <td>0.025854</td>\n      <td>0.803644</td>\n      <td>1.000000</td>\n      <td>0.861099</td>\n    </tr>\n    <tr>\n      <th>comp_hip_knee_measure_score</th>\n      <td>0.010909</td>\n      <td>-0.007610</td>\n      <td>0.014108</td>\n      <td>-0.019273</td>\n      <td>-0.019350</td>\n      <td>-0.019731</td>\n      <td>0.033953</td>\n      <td>0.024095</td>\n      <td>0.028800</td>\n      <td>0.962635</td>\n      <td>0.861099</td>\n      <td>1.000000</td>\n    </tr>\n  </tbody>\n</table>\n</div>"
     },
     "execution_count": 17,
     "metadata": {},
     "output_type": "execute_result"
    }
   ],
   "source": [
    "hvbp_df_m.corr()"
   ]
  },
  {
   "cell_type": "markdown",
   "metadata": {
    "pycharm": {
     "name": "#%% md\n"
    }
   },
   "source": [
    "#### 4) Visualization\n",
    "i) Checking distribution of points and measures using box-plot"
   ]
  },
  {
   "cell_type": "code",
   "execution_count": 4,
   "outputs": [
    {
     "data": {
      "text/plain": "[Text(0, 0, 'mort_30_ami_achievement_points'),\n Text(0, 0, 'mort_30_ami_improvement_points'),\n Text(0, 0, 'mort_30_ami_measure_score'),\n Text(0, 0, 'mort_30_hf_achievement_points'),\n Text(0, 0, 'mort_30_hf_improvement_points'),\n Text(0, 0, 'mort_30_hf_measure_score'),\n Text(0, 0, 'mort_30_pn_achievement_points'),\n Text(0, 0, 'mort_30_pn_improvement_points'),\n Text(0, 0, 'mort_30_pn_measure_score'),\n Text(0, 0, 'comp_hip_knee_achievement_points'),\n Text(0, 0, 'comp_hip_knee_improvement_points'),\n Text(0, 0, 'comp_hip_knee_measure_score')]"
     },
     "execution_count": 4,
     "metadata": {},
     "output_type": "execute_result"
    },
    {
     "data": {
      "text/plain": "<Figure size 432x288 with 1 Axes>",
      "image/png": "[encoded data removed]"
     },
     "metadata": {
      "needs_background": "light"
     },
     "output_type": "display_data"
    }
   ],
   "source": [
    "box_plot = sns.boxplot(data=hvbp_df_m)\n",
    "box_plot.set_xticklabels(box_plot.get_xticklabels(),rotation=90)"
   ],
   "metadata": {
    "collapsed": false,
    "pycharm": {
     "name": "#%%\n"
    }
   }
  },
  {
   "cell_type": "markdown",
   "metadata": {
    "pycharm": {
     "name": "#%% md\n"
    }
   },
   "source": [
    "ii) Creating histogram to check the number of hospital having 0 to 10 points / measures\n"
   ]
  },
  {
   "cell_type": "code",
   "execution_count": 7,
   "metadata": {},
   "outputs": [
    {
     "data": {
      "text/plain": "<Figure size 720x360 with 1 Axes>",
      "image/png": "[encoded data removed]"
     },
     "metadata": {
      "needs_background": "light"
     },
     "output_type": "display_data"
    }
   ],
   "source": [
    "# 'bin_edges' is a list of bin intervals\n",
    "\n",
    "hvbp_df_m['mort_30_hf_achievement_points'].plot(kind='hist', figsize=(10, 5))\n",
    "\n",
    "plt.title('Histogram of Achievement points') # add a title to the histogram\n",
    "plt.ylabel('Number of hospitals') # add y-label\n",
    "plt.xlabel('Achievement points') # add x-label\n",
    "\n",
    "plt.show()\n"
   ]
  },
  {
   "cell_type": "code",
   "execution_count": 10,
   "metadata": {},
   "outputs": [
    {
     "ename": "TypeError",
     "evalue": "hist() got multiple values for argument 'x'",
     "output_type": "error",
     "traceback": [
      "\u001B[0;31m---------------------------------------------------------------------------\u001B[0m",
      "\u001B[0;31mTypeError\u001B[0m                                 Traceback (most recent call last)",
      "\u001B[0;32m<ipython-input-10-8b5972894b89>\u001B[0m in \u001B[0;36m<module>\u001B[0;34m\u001B[0m\n\u001B[0;32m----> 1\u001B[0;31m fig = plt.hist(hvbp_df_m, x=\"mort_30_hf_achievement_points\",\n\u001B[0m\u001B[1;32m      2\u001B[0m                    \u001B[0mtitle\u001B[0m\u001B[0;34m=\u001B[0m\u001B[0;34m'Histogram of Achievement points'\u001B[0m\u001B[0;34m,\u001B[0m\u001B[0;34m\u001B[0m\u001B[0;34m\u001B[0m\u001B[0m\n\u001B[1;32m      3\u001B[0m                    \u001B[0mlabels\u001B[0m\u001B[0;34m=\u001B[0m\u001B[0;34m{\u001B[0m\u001B[0;34m'mort_30_hf_achievement_points'\u001B[0m\u001B[0;34m:\u001B[0m\u001B[0;34m'mort_30_hf_achievement_points'\u001B[0m\u001B[0;34m}\u001B[0m\u001B[0;34m,\u001B[0m \u001B[0;31m# can specify one label per df column\u001B[0m\u001B[0;34m\u001B[0m\u001B[0;34m\u001B[0m\u001B[0m\n\u001B[1;32m      4\u001B[0m                    \u001B[0mopacity\u001B[0m\u001B[0;34m=\u001B[0m\u001B[0;36m0.8\u001B[0m\u001B[0;34m,\u001B[0m \u001B[0;31m# represent bars with log scale\u001B[0m\u001B[0;34m\u001B[0m\u001B[0;34m\u001B[0m\u001B[0m\n\u001B[1;32m      5\u001B[0m                    \u001B[0mcolor_discrete_sequence\u001B[0m\u001B[0;34m=\u001B[0m\u001B[0;34m[\u001B[0m\u001B[0;34m'indianred'\u001B[0m\u001B[0;34m]\u001B[0m \u001B[0;31m# color of histogram bars\u001B[0m\u001B[0;34m\u001B[0m\u001B[0;34m\u001B[0m\u001B[0m\n",
      "\u001B[0;31mTypeError\u001B[0m: hist() got multiple values for argument 'x'"
     ]
    }
   ],
   "source": [
    "fig = plt.hist(hvbp_df_m, x=\"mort_30_hf_achievement_points\",\n",
    "                   title='Histogram of Achievement points',\n",
    "                   labels={'mort_30_hf_achievement_points':'mort_30_hf_achievement_points'}, # can specify one label per df column\n",
    "                   opacity=0.8, # represent bars with log scale\n",
    "                   color_discrete_sequence=['indianred'] # color of histogram bars\n",
    "                   )\n",
    "fig.show()\n"
   ]
  },
  {
   "cell_type": "code",
   "execution_count": null,
   "metadata": {},
   "outputs": [],
   "source": []
  },
  {
   "cell_type": "code",
   "execution_count": null,
   "metadata": {},
   "outputs": [],
   "source": []
  }
 ],
 "metadata": {
  "kernelspec": {
   "display_name": "Python 3",
   "language": "python",
   "name": "python3"
  },
  "language_info": {
   "codemirror_mode": {
    "name": "ipython",
    "version": 3
   },
   "file_extension": ".py",
   "mimetype": "text/x-python",
   "name": "python",
   "nbconvert_exporter": "python",
   "pygments_lexer": "ipython3",
   "version": "3.8.1"
  }
 },
 "nbformat": 4,
 "nbformat_minor": 2
}