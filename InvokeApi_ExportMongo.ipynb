{
 "cells": [
  {
   "cell_type": "markdown",
   "source": [
    "## I - Invoking APIs and insterting semi-strcutured data into MongDB\n",
    "#### 1) Importing libraries"
   ],
   "metadata": {
    "collapsed": false
   }
  },
  {
   "cell_type": "code",
   "execution_count": 24,
   "metadata": {},
   "outputs": [
    {
     "name": "stdout",
     "output_type": "stream",
     "text": [
      "Imported all the libraries required\n"
     ]
    }
   ],
   "source": [
    "import pandas as pd\n",
    "from sodapy import Socrata\n",
    "from pymongo import MongoClient\n",
    "print(\"Imported all the libraries required\")"
   ]
  },
  {
   "cell_type": "markdown",
   "metadata": {},
   "source": [
    "#### 2) Fetch Data from API"
   ]
  },
  {
   "cell_type": "code",
   "execution_count": 25,
   "metadata": {},
   "outputs": [
    {
     "name": "stdout",
     "output_type": "stream",
     "text": [
      "3 JSON fetched successfully via APIs\n"
     ]
    }
   ],
   "source": [
    "# Creating authentication client:\n",
    "client = Socrata(\"data.medicare.gov\", \"TeKcMRRNIEgHqcTM3vybaqF5V\",username=\"x19146281@student.ncirl.ie\",password=\"Hornet@123\")\n",
    "\n",
    "# fetching the results of hrrp, hacrp, hvbp\n",
    "results_hrrp = client.get(\"9n3s-kdb3\", limit=20000)\n",
    "results_hacrp = client.get(\"yq43-i98g\", limit=20000)\n",
    "results_hvbp = client.get(\"pudb-wetr\", limit=20000)\n",
    "print(\"3 JSON fetched successfully via APIs\")"
   ]
  },
  {
   "cell_type": "markdown",
   "metadata": {},
   "source": [
    "#### 3) Initialize the MongoDB hosted on the \"cyclades.okeanos-global.grnet.gr\""
   ]
  },
  {
   "cell_type": "code",
   "execution_count": 26,
   "metadata": {},
   "outputs": [
    {
     "name": "stdout",
     "output_type": "stream",
     "text": [
      "MongoDB connection successfull!\n"
     ]
    }
   ],
   "source": [
    "db_cl = MongoClient('83.212.82.56', 27017)\n",
    "db = db_cl['DAP_ProjectDB']\n",
    "print(\"MongoDB connection successfull!\")\n"
   ]
  },
  {
   "cell_type": "markdown",
   "metadata": {},
   "source": [
    "#### 4) Insert Data to MongoDB"
   ]
  },
  {
   "cell_type": "code",
   "execution_count": 27,
   "outputs": [
    {
     "name": "stdout",
     "output_type": "stream",
     "text": [
      "Removing collection if already present\n",
      "drop\n",
      "Insertion done into 3 collection namely hrrp, hacrp, hvbp\n"
     ]
    }
   ],
   "source": [
    "collection_hrrp = db['hrrp']\n",
    "collection_hacrp = db['hacrp']\n",
    "collection_hvbp = db['hvbp']\n",
    "\n",
    "print(\"Removing collection if already present\")\n",
    "if 'hrrp' in db.list_collection_names() :\n",
    "    collection_hrrp.drop()\n",
    "    print(\"drop\")\n",
    "if 'hacrp' in db.list_collection_names() :\n",
    "    collection_hacrp.drop()\n",
    "if 'hvbp' in db.list_collection_names() :\n",
    "    collection_hvbp.drop()\n",
    "\n",
    "collection_hrrp.insert_many(results_hrrp)\n",
    "collection_hacrp.insert_many(results_hacrp)\n",
    "collection_hvbp.insert_many(results_hvbp)\n",
    "print(\"Insertion done into 3 collection namely hrrp, hacrp, hvbp\")\n"
   ],
   "metadata": {
    "collapsed": false,
    "pycharm": {
     "name": "#%%\n"
    }
   }
  },
  {
   "cell_type": "markdown",
   "source": [
    "#### 5) Checking the size of collection and structure of documents"
   ],
   "metadata": {
    "collapsed": false
   }
  },
  {
   "cell_type": "code",
   "metadata": {
    "pycharm": {
     "name": "#%%\n"
    }
   },
   "source": [
    "print(\"Size of collections/ number of documents : \")\n",
    "print(f\" hrrp : {db['hrrp'].count_documents({})}\")\n",
    "print(f\" hacrp : {db['hacrp'].count_documents({})}\")\n",
    "print(f\" hvbp : {db['hvbp'].count_documents({})}\")\n",
    "\n",
    "print(\"\\nStructure of documents : \")\n",
    "print(f\" hrrp : {list(db['hrrp'].find_one().keys())}\")\n",
    "print(f\" hacrp : {list(db['hacrp'].find_one().keys())}\")\n",
    "print(f\" hvbp : {list(db['hvbp'].find_one().keys())}\")\n"
   ],
   "execution_count": 36,
   "outputs": [
    {
     "name": "stdout",
     "output_type": "stream",
     "text": [
      "Size of collections/ number of documents : \n",
      " hrrp : 19344\n",
      " hacrp : 3224\n",
      " hvbp : 2731\n",
      "\n",
      "Structure of documents : \n",
      " hrrp : ['_id', 'hospital_name', 'provider_id', 'state', 'measure_name', 'number_of_discharges', 'excess_readmission_ratio', 'predicted_readmission_rate', 'expected_readmission_rate', 'number_of_readmissions', 'start_date', 'end_date']\n",
      " hacrp : ['_id', 'provider_id', 'hospital_name', 'state', 'fiscal_year', 'psi_90__start_date', 'psi_90_end_date', 'psi_90_w_z_score', 'clabsi_w_z_score', 'cauti_w_z_score', 'ssi_w_z_score', 'mrsa_w_z_score', 'cdi_w_z_score', 'hai_measures_start_date', 'hai_measures_end_date', 'total_hac_score', 'payment_reduction']\n",
      " hvbp : ['_id', 'provider_number', 'hospital_name', 'address', 'city', 'state', 'zip_code', 'county_name', 'mort_30_ami_achievement_threshold', 'mort_30_ami_benchmark', 'mort_30_ami_baseline_rate', 'mort_30_ami_performance_rate', 'mort_30_ami_achievement_points', 'mort_30_ami_improvement_points', 'mort_30_ami_measure_score', 'mort_30_hf_achievement_threshold', 'mort_30_hf_benchmark', 'mort_30_hf_baseline_rate', 'mort_30_hf_performance_rate', 'mort_30_hf_achievement_points', 'mort_30_hf_improvement_points', 'mort_30_hf_measure_score', 'mort_30_pn_achievement_threshold', 'mort_30_pn_benchmark', 'mort_30_pn_baseline_rate', 'mort_30_pn_performance_rate', 'mort_30_pn_achievement_points', 'mort_30_pn_improvement_points', 'mort_30_pn_measure_score', 'comp_hip_knee_achievement_threshold', 'comp_hip_knee_benchmark', 'comp_hip_knee_baseline_rate', 'comp_hip_knee_performance_rate', 'comp_hip_knee_achievement_points', 'comp_hip_knee_improvement_points', 'comp_hip_knee_measure_score', 'geocoded_column', ':@computed_region_f3tr_pr43', ':@computed_region_nwen_78xc', ':@computed_region_csmy_5jwy']\n"
     ]
    }
   ]
  }
 ],
 "metadata": {
  "kernelspec": {
   "display_name": "Python 3",
   "language": "python",
   "name": "python3"
  },
  "language_info": {
   "codemirror_mode": {
    "name": "ipython",
    "version": 3
   },
   "file_extension": ".py",
   "mimetype": "text/x-python",
   "name": "python",
   "nbconvert_exporter": "python",
   "pygments_lexer": "ipython3",
   "version": "3.7.4"
  }
 },
 "nbformat": 4,
 "nbformat_minor": 2
}