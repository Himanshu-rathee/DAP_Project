{
 "cells": [
  {
   "cell_type": "code",
   "execution_count": 1,
   "metadata": {},
   "outputs": [],
   "source": [
    "!nbmerge \"InvokeApi_ExportMongo.ipynb\" \"Create_DB_In_PostgreSQL.ipynb\" \"Exploratory_Analysis_HACRP.ipynb\" \"Exploratory_Analysis_HRRP.ipynb\" \"Exploratory_Analysis_HVBP.ipynb\" \"MergeDB_&_Logistic_Regression.ipynb\" > Final_code_DAP_Project_Sem1.ipynb\n",
    "\n"
   ]
  },
  {
   "cell_type": "markdown",
   "metadata": {},
   "source": [
    "#### merging all code in one .ipynb file"
   ]
  }
 ],
 "metadata": {
  "kernelspec": {
   "display_name": "Python 3",
   "language": "python",
   "name": "python3"
  },
  "language_info": {
   "codemirror_mode": {
    "name": "ipython",
    "version": 3
   },
   "file_extension": ".py",
   "mimetype": "text/x-python",
   "name": "python",
   "nbconvert_exporter": "python",
   "pygments_lexer": "ipython3",
   "version": "3.7.4"
  }
 },
 "nbformat": 4,
 "nbformat_minor": 2
}
